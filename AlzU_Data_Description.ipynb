{
 "cells": [
  {
   "cell_type": "code",
   "execution_count": 1,
   "metadata": {
    "collapsed": true
   },
   "outputs": [],
   "source": [
    "import pandas as pd"
   ]
  },
  {
   "cell_type": "code",
   "execution_count": 2,
   "metadata": {
    "collapsed": false
   },
   "outputs": [],
   "source": [
    "prompt_responses = pd.read_csv('../Data_Folder/alzU_responses_only.csv')"
   ]
  },
  {
   "cell_type": "code",
   "execution_count": 3,
   "metadata": {
    "collapsed": false
   },
   "outputs": [
    {
     "data": {
      "text/html": [
       "<div>\n",
       "<table border=\"1\" class=\"dataframe\">\n",
       "  <thead>\n",
       "    <tr style=\"text-align: right;\">\n",
       "      <th></th>\n",
       "      <th>uid</th>\n",
       "      <th>ShortSketch</th>\n",
       "      <th>TechPrompt</th>\n",
       "    </tr>\n",
       "  </thead>\n",
       "  <tbody>\n",
       "    <tr>\n",
       "      <th>0</th>\n",
       "      <td>35256</td>\n",
       "      <td>NaN</td>\n",
       "      <td>NaN</td>\n",
       "    </tr>\n",
       "    <tr>\n",
       "      <th>1</th>\n",
       "      <td>35521</td>\n",
       "      <td>Reading and fantastical games provided relief ...</td>\n",
       "      <td>Technology allows me to follow politics events...</td>\n",
       "    </tr>\n",
       "    <tr>\n",
       "      <th>2</th>\n",
       "      <td>35170</td>\n",
       "      <td>NaN</td>\n",
       "      <td>NaN</td>\n",
       "    </tr>\n",
       "    <tr>\n",
       "      <th>3</th>\n",
       "      <td>35135</td>\n",
       "      <td>Getting my first horse.  I remember riding him...</td>\n",
       "      <td>I find social media to be sucking the life our...</td>\n",
       "    </tr>\n",
       "    <tr>\n",
       "      <th>4</th>\n",
       "      <td>35137</td>\n",
       "      <td>NaN</td>\n",
       "      <td>We spend way too much time on phones and compu...</td>\n",
       "    </tr>\n",
       "  </tbody>\n",
       "</table>\n",
       "</div>"
      ],
      "text/plain": [
       "     uid                                        ShortSketch  \\\n",
       "0  35256                                                NaN   \n",
       "1  35521  Reading and fantastical games provided relief ...   \n",
       "2  35170                                                NaN   \n",
       "3  35135  Getting my first horse.  I remember riding him...   \n",
       "4  35137                                                NaN   \n",
       "\n",
       "                                          TechPrompt  \n",
       "0                                                NaN  \n",
       "1  Technology allows me to follow politics events...  \n",
       "2                                                NaN  \n",
       "3  I find social media to be sucking the life our...  \n",
       "4  We spend way too much time on phones and compu...  "
      ]
     },
     "execution_count": 3,
     "metadata": {},
     "output_type": "execute_result"
    }
   ],
   "source": [
    "prompt_responses.head()"
   ]
  },
  {
   "cell_type": "markdown",
   "metadata": {},
   "source": [
    "### Number of Survey Responses"
   ]
  },
  {
   "cell_type": "code",
   "execution_count": 4,
   "metadata": {
    "collapsed": false
   },
   "outputs": [
    {
     "data": {
      "text/plain": [
       "766"
      ]
     },
     "execution_count": 4,
     "metadata": {},
     "output_type": "execute_result"
    }
   ],
   "source": [
    "prompt_responses.shape[0]"
   ]
  },
  {
   "cell_type": "markdown",
   "metadata": {},
   "source": [
    "### Number of Question Responders"
   ]
  },
  {
   "cell_type": "code",
   "execution_count": 5,
   "metadata": {
    "collapsed": false
   },
   "outputs": [
    {
     "data": {
      "text/plain": [
       "195"
      ]
     },
     "execution_count": 5,
     "metadata": {},
     "output_type": "execute_result"
    }
   ],
   "source": [
    "short_sketch_responses = prompt_responses[prompt_responses['ShortSketch'].notnull()]['ShortSketch']\n",
    "\n",
    "short_sketch_responses.count()"
   ]
  },
  {
   "cell_type": "code",
   "execution_count": 6,
   "metadata": {
    "collapsed": false
   },
   "outputs": [
    {
     "data": {
      "text/plain": [
       "231"
      ]
     },
     "execution_count": 6,
     "metadata": {},
     "output_type": "execute_result"
    }
   ],
   "source": [
    "tech_prompt_responses = prompt_responses[prompt_responses['TechPrompt'].notnull()]['TechPrompt']\n",
    "tech_prompt_responses.count()"
   ]
  },
  {
   "cell_type": "markdown",
   "metadata": {},
   "source": [
    "### Number of Question Responders\n"
   ]
  },
  {
   "cell_type": "code",
   "execution_count": 7,
   "metadata": {
    "collapsed": true
   },
   "outputs": [],
   "source": [
    "def lexical_diversity(text):\n",
    "    return len(set(text)) / (len(text)*1.0)"
   ]
  },
  {
   "cell_type": "code",
   "execution_count": 8,
   "metadata": {
    "collapsed": false
   },
   "outputs": [
    {
     "name": "stdout",
     "output_type": "stream",
     "text": [
      "Mean Word Count: Short Sketch\n",
      "49.5897435897\n"
     ]
    }
   ],
   "source": [
    "print(\"Mean Word Count: Short Sketch\")\n",
    "print(short_sketch_responses.str.split().apply(len).mean())\n",
    "\n"
   ]
  },
  {
   "cell_type": "code",
   "execution_count": 9,
   "metadata": {
    "collapsed": false
   },
   "outputs": [
    {
     "name": "stdout",
     "output_type": "stream",
     "text": [
      "Mean Word Count: Tech Prompt\n",
      "28.619047619\n"
     ]
    }
   ],
   "source": [
    "print(\"Mean Word Count: Tech Prompt\")\n",
    "print(tech_prompt_responses.str.split().apply(len).mean())"
   ]
  },
  {
   "cell_type": "code",
   "execution_count": 10,
   "metadata": {
    "collapsed": false
   },
   "outputs": [
    {
     "name": "stdout",
     "output_type": "stream",
     "text": [
      "Variance Word Count: Short Sketch\n",
      "1357.25350251\n"
     ]
    }
   ],
   "source": [
    "print(\"Variance Word Count: Short Sketch\")\n",
    "print(short_sketch_responses.str.split().apply(len).var())"
   ]
  },
  {
   "cell_type": "code",
   "execution_count": 11,
   "metadata": {
    "collapsed": false
   },
   "outputs": [
    {
     "name": "stdout",
     "output_type": "stream",
     "text": [
      "Variance Word Count: Tech Crunch\n",
      "535.662939959\n"
     ]
    }
   ],
   "source": [
    "print(\"Variance Word Count: Tech Crunch\")\n",
    "print(tech_prompt_responses.str.split().apply(len).var())"
   ]
  },
  {
   "cell_type": "code",
   "execution_count": 12,
   "metadata": {
    "collapsed": false
   },
   "outputs": [
    {
     "name": "stdout",
     "output_type": "stream",
     "text": [
      "Mean Sentence Count: Short Sketch\n",
      "4.33333333333\n"
     ]
    }
   ],
   "source": [
    "print(\"Mean Sentence Count: Short Sketch\")\n",
    "print(short_sketch_responses.str.split(\".\").apply(len).mean())"
   ]
  },
  {
   "cell_type": "code",
   "execution_count": 13,
   "metadata": {
    "collapsed": false
   },
   "outputs": [
    {
     "name": "stdout",
     "output_type": "stream",
     "text": [
      "Mean Sentence Count: Tech Prompt\n",
      "3.09956709957\n"
     ]
    }
   ],
   "source": [
    "print(\"Mean Sentence Count: Tech Prompt\")\n",
    "print(tech_prompt_responses.str.split(\".\").apply(len).mean())"
   ]
  },
  {
   "cell_type": "code",
   "execution_count": 14,
   "metadata": {
    "collapsed": false
   },
   "outputs": [
    {
     "name": "stdout",
     "output_type": "stream",
     "text": [
      "Mean Lexical Diversity: Short Sketch\n",
      "0.174661553498\n"
     ]
    }
   ],
   "source": [
    "print(\"Mean Lexical Diversity: Short Sketch\")\n",
    "print(short_sketch_responses.apply(lexical_diversity).mean())\n"
   ]
  },
  {
   "cell_type": "code",
   "execution_count": 15,
   "metadata": {
    "collapsed": false
   },
   "outputs": [
    {
     "name": "stdout",
     "output_type": "stream",
     "text": [
      "Mean Lexical Diversity: Tech Prompt\n",
      "0.268657552167\n"
     ]
    }
   ],
   "source": [
    "print(\"Mean Lexical Diversity: Tech Prompt\")\n",
    "print(tech_prompt_responses.apply(lexical_diversity).mean())"
   ]
  },
  {
   "cell_type": "markdown",
   "metadata": {},
   "source": [
    "#### Merge datasets to find all users with survey responses and CFT Scores"
   ]
  },
  {
   "cell_type": "code",
   "execution_count": 16,
   "metadata": {
    "collapsed": false
   },
   "outputs": [],
   "source": [
    "emails_and_ids = pd.read_csv('../Data_Folder/AlzU_ID_and_email.csv')"
   ]
  },
  {
   "cell_type": "code",
   "execution_count": 18,
   "metadata": {
    "collapsed": false
   },
   "outputs": [
    {
     "data": {
      "text/plain": [
       "(7422, 2)"
      ]
     },
     "execution_count": 18,
     "metadata": {},
     "output_type": "execute_result"
    }
   ],
   "source": [
    "cft_scores = pd.read_csv('../Data_Folder/CFT_5.11.csv')\n",
    "\n",
    "cft_scores = cft_scores[['EmailAddress', 'FinalScore']]\n",
    "\n",
    "cft_scores = cft_scores[cft_scores['FinalScore'].notnull()]\n",
    "\n",
    "cft_scores.shape"
   ]
  },
  {
   "cell_type": "code",
   "execution_count": 19,
   "metadata": {
    "collapsed": false
   },
   "outputs": [
    {
     "data": {
      "text/plain": [
       "(4933, 2)"
      ]
     },
     "execution_count": 19,
     "metadata": {},
     "output_type": "execute_result"
    }
   ],
   "source": [
    "scores_with_id = cft_scores.set_index('EmailAddress').join(emails_and_ids.set_index('Email'))\n",
    "\n",
    "\n",
    "scores_with_id = scores_with_id[['FinalScore', 'User ID']]\n",
    "\n",
    "scores_with_id = scores_with_id[scores_with_id['User ID'].notnull()]\n",
    "\n",
    "scores_with_id.shape"
   ]
  },
  {
   "cell_type": "code",
   "execution_count": 20,
   "metadata": {
    "collapsed": false
   },
   "outputs": [],
   "source": [
    "completed_prompts = prompt_responses[prompt_responses['ShortSketch'].notnull()]\n",
    "completed_prompts = completed_prompts[completed_prompts['TechPrompt'].notnull()]\n",
    "\n",
    "# completed_prompts.head()\n",
    "prompts_and_scores = completed_prompts.set_index('uid').join(scores_with_id.set_index('User ID'))\n",
    "\n",
    "prompts_and_scores = prompts_and_scores[prompts_and_scores['FinalScore'].notnull()]"
   ]
  },
  {
   "cell_type": "code",
   "execution_count": 21,
   "metadata": {
    "collapsed": false
   },
   "outputs": [
    {
     "data": {
      "text/html": [
       "<div>\n",
       "<table border=\"1\" class=\"dataframe\">\n",
       "  <thead>\n",
       "    <tr style=\"text-align: right;\">\n",
       "      <th></th>\n",
       "      <th>ShortSketch</th>\n",
       "      <th>TechPrompt</th>\n",
       "      <th>FinalScore</th>\n",
       "    </tr>\n",
       "  </thead>\n",
       "  <tbody>\n",
       "    <tr>\n",
       "      <th>15401</th>\n",
       "      <td>Remember Dad taking us to a ballgame to see th...</td>\n",
       "      <td>My immediate and extended family can communica...</td>\n",
       "      <td>44.184470</td>\n",
       "    </tr>\n",
       "    <tr>\n",
       "      <th>15857</th>\n",
       "      <td>I remember when there was a fire in a house up...</td>\n",
       "      <td>My work is computer based so I am on the compu...</td>\n",
       "      <td>61.381639</td>\n",
       "    </tr>\n",
       "    <tr>\n",
       "      <th>15898</th>\n",
       "      <td>Playing games and matchbox cars with friends o...</td>\n",
       "      <td>I use social media reluctantly because thatâ€™...</td>\n",
       "      <td>42.728304</td>\n",
       "    </tr>\n",
       "    <tr>\n",
       "      <th>15898</th>\n",
       "      <td>Playing games and matchbox cars with friends o...</td>\n",
       "      <td>I use social media reluctantly because thatâ€™...</td>\n",
       "      <td>59.733210</td>\n",
       "    </tr>\n",
       "    <tr>\n",
       "      <th>16280</th>\n",
       "      <td>I survived an abusive childhood at the hand of...</td>\n",
       "      <td>Medical advancements based on technology are w...</td>\n",
       "      <td>43.965908</td>\n",
       "    </tr>\n",
       "  </tbody>\n",
       "</table>\n",
       "</div>"
      ],
      "text/plain": [
       "                                             ShortSketch  \\\n",
       "15401  Remember Dad taking us to a ballgame to see th...   \n",
       "15857  I remember when there was a fire in a house up...   \n",
       "15898  Playing games and matchbox cars with friends o...   \n",
       "15898  Playing games and matchbox cars with friends o...   \n",
       "16280  I survived an abusive childhood at the hand of...   \n",
       "\n",
       "                                              TechPrompt  FinalScore  \n",
       "15401  My immediate and extended family can communica...   44.184470  \n",
       "15857  My work is computer based so I am on the compu...   61.381639  \n",
       "15898  I use social media reluctantly because thatâ€™...   42.728304  \n",
       "15898  I use social media reluctantly because thatâ€™...   59.733210  \n",
       "16280  Medical advancements based on technology are w...   43.965908  "
      ]
     },
     "execution_count": 21,
     "metadata": {},
     "output_type": "execute_result"
    }
   ],
   "source": [
    "prompts_and_scores.reset_index()\n",
    "prompts_and_scores.head()"
   ]
  },
  {
   "cell_type": "code",
   "execution_count": 22,
   "metadata": {
    "collapsed": false,
    "scrolled": true
   },
   "outputs": [
    {
     "data": {
      "text/plain": [
       "(138, 3)"
      ]
     },
     "execution_count": 22,
     "metadata": {},
     "output_type": "execute_result"
    }
   ],
   "source": [
    "prompts_and_scores.shape"
   ]
  },
  {
   "cell_type": "markdown",
   "metadata": {},
   "source": [
    "### Find user with highest CFT score"
   ]
  },
  {
   "cell_type": "code",
   "execution_count": 23,
   "metadata": {
    "collapsed": false
   },
   "outputs": [],
   "source": [
    "top_score = prompts_and_scores.ix[prompts_and_scores['FinalScore'].argmax()]\n"
   ]
  },
  {
   "cell_type": "code",
   "execution_count": 24,
   "metadata": {
    "collapsed": false
   },
   "outputs": [
    {
     "data": {
      "text/html": [
       "<div>\n",
       "<table border=\"1\" class=\"dataframe\">\n",
       "  <thead>\n",
       "    <tr style=\"text-align: right;\">\n",
       "      <th></th>\n",
       "      <th>ShortSketch</th>\n",
       "      <th>TechPrompt</th>\n",
       "      <th>FinalScore</th>\n",
       "    </tr>\n",
       "  </thead>\n",
       "  <tbody>\n",
       "    <tr>\n",
       "      <th>28931</th>\n",
       "      <td>I loved every Friday night when I was growing ...</td>\n",
       "      <td>Technology can make some of my tasks faster an...</td>\n",
       "      <td>60.899469</td>\n",
       "    </tr>\n",
       "    <tr>\n",
       "      <th>28931</th>\n",
       "      <td>I loved every Friday night when I was growing ...</td>\n",
       "      <td>Technology can make some of my tasks faster an...</td>\n",
       "      <td>51.814911</td>\n",
       "    </tr>\n",
       "    <tr>\n",
       "      <th>28931</th>\n",
       "      <td>I loved every Friday night when I was growing ...</td>\n",
       "      <td>Technology can make some of my tasks faster an...</td>\n",
       "      <td>64.902491</td>\n",
       "    </tr>\n",
       "  </tbody>\n",
       "</table>\n",
       "</div>"
      ],
      "text/plain": [
       "                                             ShortSketch  \\\n",
       "28931  I loved every Friday night when I was growing ...   \n",
       "28931  I loved every Friday night when I was growing ...   \n",
       "28931  I loved every Friday night when I was growing ...   \n",
       "\n",
       "                                              TechPrompt  FinalScore  \n",
       "28931  Technology can make some of my tasks faster an...   60.899469  \n",
       "28931  Technology can make some of my tasks faster an...   51.814911  \n",
       "28931  Technology can make some of my tasks faster an...   64.902491  "
      ]
     },
     "execution_count": 24,
     "metadata": {},
     "output_type": "execute_result"
    }
   ],
   "source": [
    "top_score"
   ]
  },
  {
   "cell_type": "code",
   "execution_count": 25,
   "metadata": {
    "collapsed": false
   },
   "outputs": [
    {
     "name": "stdout",
     "output_type": "stream",
     "text": [
      "I loved every Friday night when I was growing up. My mother always made a special meal and no one made any plans to go out. it was family time!\n",
      "30\n",
      "3\n",
      "0.181818181818\n"
     ]
    }
   ],
   "source": [
    "top_sketch = top_score['ShortSketch'].iloc[0]\n",
    "\n",
    "print(top_sketch)\n",
    "print(len(top_sketch.split()))\n",
    "print(len(top_sketch.split(\".\")))\n",
    "print(lexical_diversity(top_sketch))"
   ]
  },
  {
   "cell_type": "code",
   "execution_count": 26,
   "metadata": {
    "collapsed": false
   },
   "outputs": [
    {
     "name": "stdout",
     "output_type": "stream",
     "text": [
      "Technology can make some of my tasks faster and easier. I have very minimal involvement in social media so that has no impact on my life.\n",
      "26\n",
      "3\n",
      "0.167883211679\n"
     ]
    }
   ],
   "source": [
    "top_tech = top_score['TechPrompt'].iloc[0]\n",
    "\n",
    "print(top_tech)\n",
    "print(len(top_tech.split()))\n",
    "print(len(top_tech.split(\".\")))\n",
    "print(lexical_diversity(top_tech))"
   ]
  },
  {
   "cell_type": "markdown",
   "metadata": {},
   "source": [
    "### Find user with lowest CFT score"
   ]
  },
  {
   "cell_type": "code",
   "execution_count": 27,
   "metadata": {
    "collapsed": true
   },
   "outputs": [],
   "source": [
    "low_score = prompts_and_scores.ix[prompts_and_scores['FinalScore'].argmin()]"
   ]
  },
  {
   "cell_type": "code",
   "execution_count": 28,
   "metadata": {
    "collapsed": false
   },
   "outputs": [
    {
     "data": {
      "text/plain": [
       "ShortSketch    When I was a child we went camping in the Reed...\n",
       "TechPrompt     Allot. Every day for hours. Sometimes research...\n",
       "FinalScore                                                 17.07\n",
       "Name: 31971, dtype: object"
      ]
     },
     "execution_count": 28,
     "metadata": {},
     "output_type": "execute_result"
    }
   ],
   "source": [
    "low_score"
   ]
  },
  {
   "cell_type": "code",
   "execution_count": 29,
   "metadata": {
    "collapsed": false
   },
   "outputs": [
    {
     "name": "stdout",
     "output_type": "stream",
     "text": [
      "When I was a child we went camping in the Reedwoods.  It made a Very big impression. When I think about it I feel like I am there hiking. To me the Redwoods are spiritual. \n",
      "35\n",
      "5\n",
      "0.162790697674\n"
     ]
    }
   ],
   "source": [
    "low_sketch = low_score['ShortSketch']\n",
    "\n",
    "print(low_sketch)\n",
    "print(len(low_sketch.split()))\n",
    "print(len(low_sketch.split(\".\")))\n",
    "print(lexical_diversity(low_sketch))"
   ]
  },
  {
   "cell_type": "code",
   "execution_count": 30,
   "metadata": {
    "collapsed": false
   },
   "outputs": [
    {
     "name": "stdout",
     "output_type": "stream",
     "text": [
      "Allot. Every day for hours. Sometimes research about things that interest me. I want to keep learning. Also,I do shopping on line. I am lost without my iPad. I have Kindle also. When watching TV I try to watch programs I can learn from.  \n",
      "44\n",
      "9\n",
      "0.142857142857\n"
     ]
    }
   ],
   "source": [
    "low_tech = low_score['TechPrompt']\n",
    "\n",
    "print(low_tech)\n",
    "print(len(low_tech.split()))\n",
    "print(len(low_tech.split(\".\")))\n",
    "print(lexical_diversity(low_tech))"
   ]
  }
 ],
 "metadata": {
  "kernelspec": {
   "display_name": "Python 2",
   "language": "python",
   "name": "python2"
  },
  "language_info": {
   "codemirror_mode": {
    "name": "ipython",
    "version": 2
   },
   "file_extension": ".py",
   "mimetype": "text/x-python",
   "name": "python",
   "nbconvert_exporter": "python",
   "pygments_lexer": "ipython2",
   "version": "2.7.6"
  }
 },
 "nbformat": 4,
 "nbformat_minor": 2
}
